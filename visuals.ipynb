{
 "cells": [
  {
   "cell_type": "code",
   "execution_count": 1,
   "metadata": {},
   "outputs": [],
   "source": [
    "import pandas as pd\n",
    "import matplotlib.pyplot as plt"
   ]
  },
  {
   "cell_type": "code",
   "execution_count": 2,
   "metadata": {},
   "outputs": [],
   "source": [
    "exec(open('/Users/jamesblanton/congress-legislators/script.py').read())"
   ]
  },
  {
   "cell_type": "code",
   "execution_count": 3,
   "metadata": {},
   "outputs": [
    {
     "data": {
      "text/html": [
       "<div>\n",
       "<style scoped>\n",
       "    .dataframe tbody tr th:only-of-type {\n",
       "        vertical-align: middle;\n",
       "    }\n",
       "\n",
       "    .dataframe tbody tr th {\n",
       "        vertical-align: top;\n",
       "    }\n",
       "\n",
       "    .dataframe thead th {\n",
       "        text-align: right;\n",
       "    }\n",
       "</style>\n",
       "<table border=\"1\" class=\"dataframe\">\n",
       "  <thead>\n",
       "    <tr style=\"text-align: right;\">\n",
       "      <th></th>\n",
       "      <th>birth_date</th>\n",
       "      <th>full_name</th>\n",
       "      <th>terms</th>\n",
       "      <th>type</th>\n",
       "      <th>party</th>\n",
       "      <th>yrs</th>\n",
       "      <th>age</th>\n",
       "      <th>year</th>\n",
       "    </tr>\n",
       "  </thead>\n",
       "  <tbody>\n",
       "    <tr>\n",
       "      <th>0</th>\n",
       "      <td>1745-04-02</td>\n",
       "      <td>Richard Bassett</td>\n",
       "      <td>(1789-03-04, 1793-03-03, sen, Anti-Administrat...</td>\n",
       "      <td>sen</td>\n",
       "      <td>Anti-Administration</td>\n",
       "      <td>1789-03-04</td>\n",
       "      <td>16042 days</td>\n",
       "      <td>1789</td>\n",
       "    </tr>\n",
       "    <tr>\n",
       "      <th>1</th>\n",
       "      <td>1745-04-02</td>\n",
       "      <td>Richard Bassett</td>\n",
       "      <td>(1789-03-04, 1793-03-03, sen, Anti-Administrat...</td>\n",
       "      <td>sen</td>\n",
       "      <td>Anti-Administration</td>\n",
       "      <td>1790-03-04</td>\n",
       "      <td>16407 days</td>\n",
       "      <td>1790</td>\n",
       "    </tr>\n",
       "    <tr>\n",
       "      <th>2</th>\n",
       "      <td>1745-04-02</td>\n",
       "      <td>Richard Bassett</td>\n",
       "      <td>(1789-03-04, 1793-03-03, sen, Anti-Administrat...</td>\n",
       "      <td>sen</td>\n",
       "      <td>Anti-Administration</td>\n",
       "      <td>1791-03-04</td>\n",
       "      <td>16772 days</td>\n",
       "      <td>1791</td>\n",
       "    </tr>\n",
       "    <tr>\n",
       "      <th>3</th>\n",
       "      <td>1745-04-02</td>\n",
       "      <td>Richard Bassett</td>\n",
       "      <td>(1789-03-04, 1793-03-03, sen, Anti-Administrat...</td>\n",
       "      <td>sen</td>\n",
       "      <td>Anti-Administration</td>\n",
       "      <td>1792-03-04</td>\n",
       "      <td>17138 days</td>\n",
       "      <td>1792</td>\n",
       "    </tr>\n",
       "    <tr>\n",
       "      <th>4</th>\n",
       "      <td>1742-03-21</td>\n",
       "      <td>Theodorick Bland</td>\n",
       "      <td>(1789-03-04, 1791-03-03, rep, None)</td>\n",
       "      <td>rep</td>\n",
       "      <td>None</td>\n",
       "      <td>1789-03-04</td>\n",
       "      <td>17150 days</td>\n",
       "      <td>1789</td>\n",
       "    </tr>\n",
       "    <tr>\n",
       "      <th>...</th>\n",
       "      <td>...</td>\n",
       "      <td>...</td>\n",
       "      <td>...</td>\n",
       "      <td>...</td>\n",
       "      <td>...</td>\n",
       "      <td>...</td>\n",
       "      <td>...</td>\n",
       "      <td>...</td>\n",
       "    </tr>\n",
       "    <tr>\n",
       "      <th>99221</th>\n",
       "      <td>1948-10-24</td>\n",
       "      <td>Kweisi Mfume</td>\n",
       "      <td>(1995-01-04, 1996-02-18, rep, Democrat)</td>\n",
       "      <td>rep</td>\n",
       "      <td>Democrat</td>\n",
       "      <td>1996-01-04</td>\n",
       "      <td>17238 days</td>\n",
       "      <td>1996</td>\n",
       "    </tr>\n",
       "    <tr>\n",
       "      <th>99222</th>\n",
       "      <td>1948-10-24</td>\n",
       "      <td>Kweisi Mfume</td>\n",
       "      <td>(2020-05-05, 2021-01-03, rep, Democrat)</td>\n",
       "      <td>rep</td>\n",
       "      <td>Democrat</td>\n",
       "      <td>2020-05-05</td>\n",
       "      <td>26126 days</td>\n",
       "      <td>2020</td>\n",
       "    </tr>\n",
       "    <tr>\n",
       "      <th>99223</th>\n",
       "      <td>1957-12-30</td>\n",
       "      <td>Thomas P. Tiffany</td>\n",
       "      <td>(2020-05-19, 2021-01-03, rep, Republican)</td>\n",
       "      <td>rep</td>\n",
       "      <td>Republican</td>\n",
       "      <td>2020-05-19</td>\n",
       "      <td>22786 days</td>\n",
       "      <td>2020</td>\n",
       "    </tr>\n",
       "    <tr>\n",
       "      <th>99224</th>\n",
       "      <td>1976-04-24</td>\n",
       "      <td>Mike Garcia</td>\n",
       "      <td>(2020-05-19, 2021-01-03, rep, Republican)</td>\n",
       "      <td>rep</td>\n",
       "      <td>Republican</td>\n",
       "      <td>2020-05-19</td>\n",
       "      <td>16096 days</td>\n",
       "      <td>2020</td>\n",
       "    </tr>\n",
       "    <tr>\n",
       "      <th>99225</th>\n",
       "      <td>1966-11-28</td>\n",
       "      <td>Chris Jacobs</td>\n",
       "      <td>(2020-07-21, 2021-01-03, rep, Republican)</td>\n",
       "      <td>rep</td>\n",
       "      <td>Republican</td>\n",
       "      <td>2020-07-21</td>\n",
       "      <td>19594 days</td>\n",
       "      <td>2020</td>\n",
       "    </tr>\n",
       "  </tbody>\n",
       "</table>\n",
       "<p>99226 rows × 8 columns</p>\n",
       "</div>"
      ],
      "text/plain": [
       "      birth_date          full_name  \\\n",
       "0     1745-04-02    Richard Bassett   \n",
       "1     1745-04-02    Richard Bassett   \n",
       "2     1745-04-02    Richard Bassett   \n",
       "3     1745-04-02    Richard Bassett   \n",
       "4     1742-03-21   Theodorick Bland   \n",
       "...          ...                ...   \n",
       "99221 1948-10-24       Kweisi Mfume   \n",
       "99222 1948-10-24       Kweisi Mfume   \n",
       "99223 1957-12-30  Thomas P. Tiffany   \n",
       "99224 1976-04-24        Mike Garcia   \n",
       "99225 1966-11-28       Chris Jacobs   \n",
       "\n",
       "                                                   terms type  \\\n",
       "0      (1789-03-04, 1793-03-03, sen, Anti-Administrat...  sen   \n",
       "1      (1789-03-04, 1793-03-03, sen, Anti-Administrat...  sen   \n",
       "2      (1789-03-04, 1793-03-03, sen, Anti-Administrat...  sen   \n",
       "3      (1789-03-04, 1793-03-03, sen, Anti-Administrat...  sen   \n",
       "4                    (1789-03-04, 1791-03-03, rep, None)  rep   \n",
       "...                                                  ...  ...   \n",
       "99221            (1995-01-04, 1996-02-18, rep, Democrat)  rep   \n",
       "99222            (2020-05-05, 2021-01-03, rep, Democrat)  rep   \n",
       "99223          (2020-05-19, 2021-01-03, rep, Republican)  rep   \n",
       "99224          (2020-05-19, 2021-01-03, rep, Republican)  rep   \n",
       "99225          (2020-07-21, 2021-01-03, rep, Republican)  rep   \n",
       "\n",
       "                     party        yrs        age  year  \n",
       "0      Anti-Administration 1789-03-04 16042 days  1789  \n",
       "1      Anti-Administration 1790-03-04 16407 days  1790  \n",
       "2      Anti-Administration 1791-03-04 16772 days  1791  \n",
       "3      Anti-Administration 1792-03-04 17138 days  1792  \n",
       "4                     None 1789-03-04 17150 days  1789  \n",
       "...                    ...        ...        ...   ...  \n",
       "99221             Democrat 1996-01-04 17238 days  1996  \n",
       "99222             Democrat 2020-05-05 26126 days  2020  \n",
       "99223           Republican 2020-05-19 22786 days  2020  \n",
       "99224           Republican 2020-05-19 16096 days  2020  \n",
       "99225           Republican 2020-07-21 19594 days  2020  \n",
       "\n",
       "[99226 rows x 8 columns]"
      ]
     },
     "execution_count": 3,
     "metadata": {},
     "output_type": "execute_result"
    }
   ],
   "source": [
    "df"
   ]
  },
  {
   "cell_type": "code",
   "execution_count": 9,
   "metadata": {},
   "outputs": [],
   "source": [
    "df['year'] = df['yrs'].dt.year\n",
    "df['age_days'] = df['age'].dt.days\n",
    "df = df[df['year'] < 2021]\n",
    "df_certain = df[df['age_days'] > 0]\n",
    "df_dropped = df[df['age_days'] < 0]\n",
    "grouped = df_certain.groupby('year')\n",
    "mean_yr = grouped.agg({'age_days':'mean'})\n",
    "mean_yr['age_years'] = mean_yr['age_days'] / 365"
   ]
  },
  {
   "cell_type": "code",
   "execution_count": 10,
   "metadata": {},
   "outputs": [],
   "source": [
    "inc_type = df_certain.groupby(['year', 'type'])\n",
    "mean_inc_type = inc_type.agg({'age_days':'mean'})\n",
    "mean_inc_type['age_years'] = mean_inc_type['age_days'] / 365"
   ]
  },
  {
   "cell_type": "code",
   "execution_count": 6,
   "metadata": {},
   "outputs": [],
   "source": [
    "mean_inc_type2 = mean_inc_type.drop('age_days', axis=1)"
   ]
  },
  {
   "cell_type": "code",
   "execution_count": 11,
   "metadata": {},
   "outputs": [
    {
     "data": {
      "text/plain": [
       "<AxesSubplot:xlabel='year'>"
      ]
     },
     "execution_count": 11,
     "metadata": {},
     "output_type": "execute_result"
    },
    {
     "data": {
      "image/png": "[encoded data removed]",
      "text/plain": [
       "<Figure size 432x288 with 1 Axes>"
      ]
     },
     "metadata": {
      "needs_background": "light"
     },
     "output_type": "display_data"
    }
   ],
   "source": [
    "mean_inc_type['age_years'].unstack().plot()"
   ]
  },
  {
   "cell_type": "code",
   "execution_count": 8,
   "metadata": {},
   "outputs": [
    {
     "data": {
      "text/html": [
       "<div>\n",
       "<style scoped>\n",
       "    .dataframe tbody tr th:only-of-type {\n",
       "        vertical-align: middle;\n",
       "    }\n",
       "\n",
       "    .dataframe tbody tr th {\n",
       "        vertical-align: top;\n",
       "    }\n",
       "\n",
       "    .dataframe thead th {\n",
       "        text-align: right;\n",
       "    }\n",
       "</style>\n",
       "<table border=\"1\" class=\"dataframe\">\n",
       "  <thead>\n",
       "    <tr style=\"text-align: right;\">\n",
       "      <th></th>\n",
       "      <th></th>\n",
       "      <th>age_days</th>\n",
       "      <th>age_years</th>\n",
       "    </tr>\n",
       "    <tr>\n",
       "      <th>year</th>\n",
       "      <th>type</th>\n",
       "      <th></th>\n",
       "      <th></th>\n",
       "    </tr>\n",
       "  </thead>\n",
       "  <tbody>\n",
       "    <tr>\n",
       "      <th rowspan=\"2\" valign=\"top\">1789</th>\n",
       "      <th>rep</th>\n",
       "      <td>16222.690476</td>\n",
       "      <td>44.445727</td>\n",
       "    </tr>\n",
       "    <tr>\n",
       "      <th>sen</th>\n",
       "      <td>16747.258065</td>\n",
       "      <td>45.882899</td>\n",
       "    </tr>\n",
       "    <tr>\n",
       "      <th rowspan=\"2\" valign=\"top\">1790</th>\n",
       "      <th>rep</th>\n",
       "      <td>16630.511628</td>\n",
       "      <td>45.563046</td>\n",
       "    </tr>\n",
       "    <tr>\n",
       "      <th>sen</th>\n",
       "      <td>16720.083333</td>\n",
       "      <td>45.808447</td>\n",
       "    </tr>\n",
       "    <tr>\n",
       "      <th>1791</th>\n",
       "      <th>rep</th>\n",
       "      <td>16213.250000</td>\n",
       "      <td>44.419863</td>\n",
       "    </tr>\n",
       "    <tr>\n",
       "      <th>...</th>\n",
       "      <th>...</th>\n",
       "      <td>...</td>\n",
       "      <td>...</td>\n",
       "    </tr>\n",
       "    <tr>\n",
       "      <th>2020</th>\n",
       "      <th>sen</th>\n",
       "      <td>23281.010000</td>\n",
       "      <td>63.783589</td>\n",
       "    </tr>\n",
       "    <tr>\n",
       "      <th>2021</th>\n",
       "      <th>sen</th>\n",
       "      <td>23529.538462</td>\n",
       "      <td>64.464489</td>\n",
       "    </tr>\n",
       "    <tr>\n",
       "      <th>2022</th>\n",
       "      <th>sen</th>\n",
       "      <td>23894.538462</td>\n",
       "      <td>65.464489</td>\n",
       "    </tr>\n",
       "    <tr>\n",
       "      <th>2023</th>\n",
       "      <th>sen</th>\n",
       "      <td>24507.606061</td>\n",
       "      <td>67.144126</td>\n",
       "    </tr>\n",
       "    <tr>\n",
       "      <th>2024</th>\n",
       "      <th>sen</th>\n",
       "      <td>24872.606061</td>\n",
       "      <td>68.144126</td>\n",
       "    </tr>\n",
       "  </tbody>\n",
       "</table>\n",
       "<p>468 rows × 2 columns</p>\n",
       "</div>"
      ],
      "text/plain": [
       "               age_days  age_years\n",
       "year type                         \n",
       "1789 rep   16222.690476  44.445727\n",
       "     sen   16747.258065  45.882899\n",
       "1790 rep   16630.511628  45.563046\n",
       "     sen   16720.083333  45.808447\n",
       "1791 rep   16213.250000  44.419863\n",
       "...                 ...        ...\n",
       "2020 sen   23281.010000  63.783589\n",
       "2021 sen   23529.538462  64.464489\n",
       "2022 sen   23894.538462  65.464489\n",
       "2023 sen   24507.606061  67.144126\n",
       "2024 sen   24872.606061  68.144126\n",
       "\n",
       "[468 rows x 2 columns]"
      ]
     },
     "execution_count": 8,
     "metadata": {},
     "output_type": "execute_result"
    }
   ],
   "source": [
    "mean_inc_type"
   ]
  },
  {
   "cell_type": "code",
   "execution_count": 12,
   "metadata": {},
   "outputs": [
    {
     "data": {
      "image/png": "[encoded data removed]",
      "text/plain": [
       "<Figure size 720x432 with 1 Axes>"
      ]
     },
     "metadata": {
      "needs_background": "light"
     },
     "output_type": "display_data"
    }
   ],
   "source": [
    "fig, ax = plt.subplots(figsize=(10,6))\n",
    "df_plot = mean_inc_type['age_years'].unstack()\n",
    "ax.plot(df_plot['sen'])\n",
    "ax.plot(df_plot['rep'])\n",
    "ax.legend(['Senate', 'House'])\n",
    "ax.set_xlabel('Year')\n",
    "ax.set_ylabel('Mean Age')\n",
    "plt.savefig('mean_age.png')\n",
    "plt.show()"
   ]
  },
  {
   "cell_type": "code",
   "execution_count": null,
   "metadata": {},
   "outputs": [],
   "source": [
    "mean_yr['age_years'].plot()"
   ]
  },
  {
   "cell_type": "code",
   "execution_count": null,
   "metadata": {},
   "outputs": [],
   "source": [
    "drop_data = pd.concat([df.groupby('year').size(), df_dropped.groupby('year').size()], axis=1)\n",
    "drop_data = drop_data.fillna(0)\n",
    "drop_data['percentage'] = drop_data[1] / drop_data[0]\n",
    "drop_data.columns = ['total_records', 'missing_bday', 'percentage']\n",
    "drop_data.sort_values('percentage', ascending=False)"
   ]
  },
  {
   "cell_type": "code",
   "execution_count": null,
   "metadata": {},
   "outputs": [],
   "source": [
    "df_dropped.groupby('year').size()"
   ]
  },
  {
   "cell_type": "code",
   "execution_count": null,
   "metadata": {},
   "outputs": [],
   "source": [
    "df[df['year'] == 1890]['age'].dt.days.astype(int)"
   ]
  },
  {
   "cell_type": "code",
   "execution_count": null,
   "metadata": {},
   "outputs": [],
   "source": []
  }
 ],
 "metadata": {
  "kernelspec": {
   "display_name": "Python 3",
   "language": "python",
   "name": "python3"
  },
  "language_info": {
   "codemirror_mode": {
    "name": "ipython",
    "version": 3
   },
   "file_extension": ".py",
   "mimetype": "text/x-python",
   "name": "python",
   "nbconvert_exporter": "python",
   "pygments_lexer": "ipython3",
   "version": "3.8.5"
  }
 },
 "nbformat": 4,
 "nbformat_minor": 4
}
